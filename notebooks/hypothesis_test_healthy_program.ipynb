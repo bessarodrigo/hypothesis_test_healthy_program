{
 "cells": [
  {
   "cell_type": "markdown",
   "id": "be8b3751",
   "metadata": {},
   "source": [
    "# Importação das Bibliotecas"
   ]
  },
  {
   "cell_type": "code",
   "execution_count": 10,
   "id": "989d05fe",
   "metadata": {},
   "outputs": [],
   "source": [
    "import pandas as pd\n",
    "import scipy.stats as stats\n",
    "from scipy.stats import norm\n",
    "import numpy as np\n",
    "import matplotlib.pyplot as plt\n",
    "from composicao_histograma_boxplot import composicao_histograma_boxplot\n",
    "from composicao_histograma_boxplot import calcular_estatisticas"
   ]
  },
  {
   "cell_type": "markdown",
   "id": "0aff41d8",
   "metadata": {},
   "source": [
    "# Leitura e Análise da Base"
   ]
  },
  {
   "cell_type": "code",
   "execution_count": 4,
   "id": "0b66134c",
   "metadata": {},
   "outputs": [
    {
     "data": {
      "text/html": [
       "<div>\n",
       "<style scoped>\n",
       "    .dataframe tbody tr th:only-of-type {\n",
       "        vertical-align: middle;\n",
       "    }\n",
       "\n",
       "    .dataframe tbody tr th {\n",
       "        vertical-align: top;\n",
       "    }\n",
       "\n",
       "    .dataframe thead th {\n",
       "        text-align: right;\n",
       "    }\n",
       "</style>\n",
       "<table border=\"1\" class=\"dataframe\">\n",
       "  <thead>\n",
       "    <tr style=\"text-align: right;\">\n",
       "      <th></th>\n",
       "      <th>Amostra</th>\n",
       "      <th>Colesterol (mg/dL)</th>\n",
       "    </tr>\n",
       "  </thead>\n",
       "  <tbody>\n",
       "    <tr>\n",
       "      <th>0</th>\n",
       "      <td>1</td>\n",
       "      <td>180.8</td>\n",
       "    </tr>\n",
       "    <tr>\n",
       "      <th>1</th>\n",
       "      <td>2</td>\n",
       "      <td>176.5</td>\n",
       "    </tr>\n",
       "    <tr>\n",
       "      <th>2</th>\n",
       "      <td>3</td>\n",
       "      <td>203.6</td>\n",
       "    </tr>\n",
       "    <tr>\n",
       "      <th>3</th>\n",
       "      <td>4</td>\n",
       "      <td>205.7</td>\n",
       "    </tr>\n",
       "    <tr>\n",
       "      <th>4</th>\n",
       "      <td>5</td>\n",
       "      <td>162.1</td>\n",
       "    </tr>\n",
       "  </tbody>\n",
       "</table>\n",
       "</div>"
      ],
      "text/plain": [
       "   Amostra  Colesterol (mg/dL)\n",
       "0        1               180.8\n",
       "1        2               176.5\n",
       "2        3               203.6\n",
       "3        4               205.7\n",
       "4        5               162.1"
      ]
     },
     "execution_count": 4,
     "metadata": {},
     "output_type": "execute_result"
    }
   ],
   "source": [
    "# Leitura da planilha \n",
    "DADOS = r\"C:\\Users\\rodri\\OneDrive\\Sincronização\\Documentos\\GitHub\\hypothesis_test_healthy_program\\data\\teste_hipoteses_programa_saude.xlsx\"\n",
    "df = pd.read_excel(DADOS)\n",
    "\n",
    "# Visualizar as primeiras linhas da tabela\n",
    "df.head()"
   ]
  },
  {
   "cell_type": "code",
   "execution_count": 5,
   "id": "602ff3c6",
   "metadata": {},
   "outputs": [
    {
     "data": {
      "text/html": [
       "<div>\n",
       "<style scoped>\n",
       "    .dataframe tbody tr th:only-of-type {\n",
       "        vertical-align: middle;\n",
       "    }\n",
       "\n",
       "    .dataframe tbody tr th {\n",
       "        vertical-align: top;\n",
       "    }\n",
       "\n",
       "    .dataframe thead th {\n",
       "        text-align: right;\n",
       "    }\n",
       "</style>\n",
       "<table border=\"1\" class=\"dataframe\">\n",
       "  <thead>\n",
       "    <tr style=\"text-align: right;\">\n",
       "      <th></th>\n",
       "      <th>Amostra</th>\n",
       "      <th>Colesterol (mg/dL)</th>\n",
       "    </tr>\n",
       "  </thead>\n",
       "  <tbody>\n",
       "    <tr>\n",
       "      <th>215</th>\n",
       "      <td>216</td>\n",
       "      <td>212.7</td>\n",
       "    </tr>\n",
       "    <tr>\n",
       "      <th>216</th>\n",
       "      <td>217</td>\n",
       "      <td>187.0</td>\n",
       "    </tr>\n",
       "    <tr>\n",
       "      <th>217</th>\n",
       "      <td>218</td>\n",
       "      <td>185.4</td>\n",
       "    </tr>\n",
       "    <tr>\n",
       "      <th>218</th>\n",
       "      <td>219</td>\n",
       "      <td>221.7</td>\n",
       "    </tr>\n",
       "    <tr>\n",
       "      <th>219</th>\n",
       "      <td>220</td>\n",
       "      <td>154.8</td>\n",
       "    </tr>\n",
       "  </tbody>\n",
       "</table>\n",
       "</div>"
      ],
      "text/plain": [
       "     Amostra  Colesterol (mg/dL)\n",
       "215      216               212.7\n",
       "216      217               187.0\n",
       "217      218               185.4\n",
       "218      219               221.7\n",
       "219      220               154.8"
      ]
     },
     "execution_count": 5,
     "metadata": {},
     "output_type": "execute_result"
    }
   ],
   "source": [
    "# Visualizar as últimas linhas da tabela\n",
    "df.tail()"
   ]
  },
  {
   "cell_type": "code",
   "execution_count": 6,
   "id": "e12edb84",
   "metadata": {},
   "outputs": [
    {
     "name": "stdout",
     "output_type": "stream",
     "text": [
      "<class 'pandas.core.frame.DataFrame'>\n",
      "RangeIndex: 220 entries, 0 to 219\n",
      "Data columns (total 2 columns):\n",
      " #   Column              Non-Null Count  Dtype  \n",
      "---  ------              --------------  -----  \n",
      " 0   Amostra             220 non-null    int64  \n",
      " 1   Colesterol (mg/dL)  220 non-null    float64\n",
      "dtypes: float64(1), int64(1)\n",
      "memory usage: 3.6 KB\n"
     ]
    }
   ],
   "source": [
    "# Conferir os tipos de dados\n",
    "df.info()"
   ]
  },
  {
   "cell_type": "markdown",
   "id": "9ac2eb27",
   "metadata": {},
   "source": [
    "# Identificação do Problema"
   ]
  },
  {
   "cell_type": "code",
   "execution_count": 9,
   "id": "ddd41bd5",
   "metadata": {},
   "outputs": [
    {
     "name": "stdout",
     "output_type": "stream",
     "text": [
      "Tamanho da Amostra\n",
      "220\n",
      "========================================\n",
      "Média Amostral\n",
      "192.3\n",
      "========================================\n",
      "Desvio Padrão Amostral\n",
      "19.38\n"
     ]
    }
   ],
   "source": [
    "media = df[\"Colesterol (mg/dL)\"].mean().round(1)\n",
    "desvio_padrao = df[\"Colesterol (mg/dL)\"].std().round(2)\n",
    "n = len(df)\n",
    "\n",
    "print(\"Tamanho da Amostra\")\n",
    "print(n)\n",
    "print(\"=\"*40)\n",
    "print(\"Média Amostral\")\n",
    "print(media)\n",
    "print(\"=\"*40)\n",
    "print(\"Desvio Padrão Amostral\")\n",
    "print(desvio_padrao)"
   ]
  },
  {
   "cell_type": "code",
   "execution_count": 11,
   "id": "0d54c8ea",
   "metadata": {},
   "outputs": [
    {
     "data": {
      "image/png": "[encoded data removed]",
      "text/plain": [
       "<Figure size 640x480 with 2 Axes>"
      ]
     },
     "metadata": {},
     "output_type": "display_data"
    }
   ],
   "source": [
    "composicao_histograma_boxplot(df, \"Colesterol (mg/dL)\", titulo=\"Distribuição do nível de colesterol dos colaborades\")"
   ]
  },
  {
   "cell_type": "markdown",
   "id": "66293d1d",
   "metadata": {},
   "source": [
    "# Teste de Hipóteses"
   ]
  },
  {
   "cell_type": "code",
   "execution_count": 21,
   "id": "3994f020",
   "metadata": {},
   "outputs": [],
   "source": [
    "# Dados\n",
    "amostra = df[\"Colesterol (mg/dL)\"]\n",
    "valor_referencia = 190\n",
    "alpha = 0.05  # Nível de significância"
   ]
  },
  {
   "cell_type": "code",
   "execution_count": 22,
   "id": "65e243df",
   "metadata": {},
   "outputs": [],
   "source": [
    "# Teste t\n",
    "t_stat, p_valor = stats.ttest_1samp(amostra, valor_referencia)"
   ]
  },
  {
   "cell_type": "code",
   "execution_count": 23,
   "id": "ae9da9ba",
   "metadata": {},
   "outputs": [],
   "source": [
    "# Ajuste do p-valor para teste unilateral (H1: média > 190)\n",
    "if t_stat > 0:\n",
    "    p_valor /= 2  # Pegamos apenas a metade direita da distribuição\n",
    "else:\n",
    "    p_valor = 1 - (p_valor / 2)  # Caso contrário, ajustamos para o outro lado"
   ]
  },
  {
   "cell_type": "code",
   "execution_count": 30,
   "id": "6e030f88",
   "metadata": {},
   "outputs": [
    {
     "name": "stdout",
     "output_type": "stream",
     "text": [
      "Estatística t: 1.72\n",
      "Valor-p: 4.3%\n",
      "Rejeitamos H0: A média do colesterol é significativamente maior que 190.\n"
     ]
    }
   ],
   "source": [
    "# Exibição dos resultados\n",
    "print(f\"Estatística t: {t_stat:.2f}\")\n",
    "print(f\"Valor-p: {p_valor * 100:.1f}%\") \n",
    "\n",
    "if p_valor < alpha:\n",
    "    print(\"Rejeitamos H0: A média do colesterol é significativamente maior que 190.\")\n",
    "else:\n",
    "    print(\"Não rejeitamos H0: Não há evidências suficientes para dizer que a média é maior que 190.\")"
   ]
  }
 ],
 "metadata": {
  "kernelspec": {
   "display_name": "Python (venv)",
   "language": "python",
   "name": "venv"
  },
  "language_info": {
   "codemirror_mode": {
    "name": "ipython",
    "version": 3
   },
   "file_extension": ".py",
   "mimetype": "text/x-python",
   "name": "python",
   "nbconvert_exporter": "python",
   "pygments_lexer": "ipython3",
   "version": "3.13.0"
  }
 },
 "nbformat": 4,
 "nbformat_minor": 5
}

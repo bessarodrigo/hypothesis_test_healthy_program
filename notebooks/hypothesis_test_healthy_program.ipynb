{
 "cells": [
  {
   "cell_type": "markdown",
   "id": "d211e242",
   "metadata": {},
   "source": [
    "# Importação das Bibliotecas"
   ]
  },
  {
   "cell_type": "code",
   "execution_count": 1,
   "id": "54b546c5",
   "metadata": {},
   "outputs": [],
   "source": [
    "import pandas as pd\n",
    "import scipy.stats as stats\n",
    "from scipy.stats import norm\n",
    "import numpy as np\n",
    "import matplotlib.pyplot as plt\n",
    "#from composicao_histograma_boxplot import composicao_histograma_boxplot\n",
    "#from composicao_histograma_boxplot import calcular_estatisticas"
   ]
  },
  {
   "cell_type": "markdown",
   "id": "255dfc70",
   "metadata": {},
   "source": [
    "# Leitura e Análise da Base"
   ]
  },
  {
   "cell_type": "code",
   "execution_count": 4,
   "id": "7d49bf39",
   "metadata": {},
   "outputs": [
    {
     "data": {
      "text/html": [
       "<div>\n",
       "<style scoped>\n",
       "    .dataframe tbody tr th:only-of-type {\n",
       "        vertical-align: middle;\n",
       "    }\n",
       "\n",
       "    .dataframe tbody tr th {\n",
       "        vertical-align: top;\n",
       "    }\n",
       "\n",
       "    .dataframe thead th {\n",
       "        text-align: right;\n",
       "    }\n",
       "</style>\n",
       "<table border=\"1\" class=\"dataframe\">\n",
       "  <thead>\n",
       "    <tr style=\"text-align: right;\">\n",
       "      <th></th>\n",
       "      <th>Amostra</th>\n",
       "      <th>Colesterol (mg/dL)</th>\n",
       "    </tr>\n",
       "  </thead>\n",
       "  <tbody>\n",
       "    <tr>\n",
       "      <th>0</th>\n",
       "      <td>1</td>\n",
       "      <td>180.8</td>\n",
       "    </tr>\n",
       "    <tr>\n",
       "      <th>1</th>\n",
       "      <td>2</td>\n",
       "      <td>176.5</td>\n",
       "    </tr>\n",
       "    <tr>\n",
       "      <th>2</th>\n",
       "      <td>3</td>\n",
       "      <td>203.6</td>\n",
       "    </tr>\n",
       "    <tr>\n",
       "      <th>3</th>\n",
       "      <td>4</td>\n",
       "      <td>205.7</td>\n",
       "    </tr>\n",
       "    <tr>\n",
       "      <th>4</th>\n",
       "      <td>5</td>\n",
       "      <td>162.1</td>\n",
       "    </tr>\n",
       "  </tbody>\n",
       "</table>\n",
       "</div>"
      ],
      "text/plain": [
       "   Amostra  Colesterol (mg/dL)\n",
       "0        1               180.8\n",
       "1        2               176.5\n",
       "2        3               203.6\n",
       "3        4               205.7\n",
       "4        5               162.1"
      ]
     },
     "execution_count": 4,
     "metadata": {},
     "output_type": "execute_result"
    }
   ],
   "source": [
    "# Leitura da planilha \n",
    "DADOS = r\"C:\\Users\\rodri\\OneDrive\\Sincronização\\Documentos\\GitHub\\hypothesis_test_healthy_program\\data\\teste_hipoteses_programa_saude.xlsx\"\n",
    "df = pd.read_excel(DADOS)\n",
    "\n",
    "# Visualizar as primeiras linhas da tabela\n",
    "df.head()"
   ]
  },
  {
   "cell_type": "code",
   "execution_count": 5,
   "id": "b96f5519",
   "metadata": {},
   "outputs": [
    {
     "data": {
      "text/html": [
       "<div>\n",
       "<style scoped>\n",
       "    .dataframe tbody tr th:only-of-type {\n",
       "        vertical-align: middle;\n",
       "    }\n",
       "\n",
       "    .dataframe tbody tr th {\n",
       "        vertical-align: top;\n",
       "    }\n",
       "\n",
       "    .dataframe thead th {\n",
       "        text-align: right;\n",
       "    }\n",
       "</style>\n",
       "<table border=\"1\" class=\"dataframe\">\n",
       "  <thead>\n",
       "    <tr style=\"text-align: right;\">\n",
       "      <th></th>\n",
       "      <th>Amostra</th>\n",
       "      <th>Colesterol (mg/dL)</th>\n",
       "    </tr>\n",
       "  </thead>\n",
       "  <tbody>\n",
       "    <tr>\n",
       "      <th>215</th>\n",
       "      <td>216</td>\n",
       "      <td>212.7</td>\n",
       "    </tr>\n",
       "    <tr>\n",
       "      <th>216</th>\n",
       "      <td>217</td>\n",
       "      <td>187.0</td>\n",
       "    </tr>\n",
       "    <tr>\n",
       "      <th>217</th>\n",
       "      <td>218</td>\n",
       "      <td>185.4</td>\n",
       "    </tr>\n",
       "    <tr>\n",
       "      <th>218</th>\n",
       "      <td>219</td>\n",
       "      <td>221.7</td>\n",
       "    </tr>\n",
       "    <tr>\n",
       "      <th>219</th>\n",
       "      <td>220</td>\n",
       "      <td>154.8</td>\n",
       "    </tr>\n",
       "  </tbody>\n",
       "</table>\n",
       "</div>"
      ],
      "text/plain": [
       "     Amostra  Colesterol (mg/dL)\n",
       "215      216               212.7\n",
       "216      217               187.0\n",
       "217      218               185.4\n",
       "218      219               221.7\n",
       "219      220               154.8"
      ]
     },
     "execution_count": 5,
     "metadata": {},
     "output_type": "execute_result"
    }
   ],
   "source": [
    "# Visualizar as últimas linhas da tabela\n",
    "df.tail()"
   ]
  },
  {
   "cell_type": "code",
   "execution_count": 6,
   "id": "06eb981f",
   "metadata": {},
   "outputs": [
    {
     "name": "stdout",
     "output_type": "stream",
     "text": [
      "<class 'pandas.core.frame.DataFrame'>\n",
      "RangeIndex: 220 entries, 0 to 219\n",
      "Data columns (total 2 columns):\n",
      " #   Column              Non-Null Count  Dtype  \n",
      "---  ------              --------------  -----  \n",
      " 0   Amostra             220 non-null    int64  \n",
      " 1   Colesterol (mg/dL)  220 non-null    float64\n",
      "dtypes: float64(1), int64(1)\n",
      "memory usage: 3.6 KB\n"
     ]
    }
   ],
   "source": [
    "# Conferir os tipos de dados\n",
    "df.info()"
   ]
  },
  {
   "cell_type": "markdown",
   "id": "22674738",
   "metadata": {},
   "source": [
    "# Identificação do Problema"
   ]
  },
  {
   "cell_type": "code",
   "execution_count": 9,
   "id": "add485cb",
   "metadata": {},
   "outputs": [
    {
     "name": "stdout",
     "output_type": "stream",
     "text": [
      "Tamanho da Amostra\n",
      "220\n",
      "========================================\n",
      "Média Amostral\n",
      "192.3\n",
      "========================================\n",
      "Desvio Padrão Amostral\n",
      "19.38\n"
     ]
    }
   ],
   "source": [
    "media = df[\"Colesterol (mg/dL)\"].mean().round(1)\n",
    "desvio_padrao = df[\"Colesterol (mg/dL)\"].std().round(2)\n",
    "n = len(df)\n",
    "\n",
    "print(\"Tamanho da Amostra\")\n",
    "print(n)\n",
    "print(\"=\"*40)\n",
    "print(\"Média Amostral\")\n",
    "print(media)\n",
    "print(\"=\"*40)\n",
    "print(\"Desvio Padrão Amostral\")\n",
    "print(desvio_padrao)"
   ]
  },
  {
   "cell_type": "code",
   "execution_count": null,
   "id": "9f303640",
   "metadata": {},
   "outputs": [],
   "source": []
  }
 ],
 "metadata": {
  "kernelspec": {
   "display_name": "Python (venv)",
   "language": "python",
   "name": "venv"
  },
  "language_info": {
   "codemirror_mode": {
    "name": "ipython",
    "version": 3
   },
   "file_extension": ".py",
   "mimetype": "text/x-python",
   "name": "python",
   "nbconvert_exporter": "python",
   "pygments_lexer": "ipython3",
   "version": "3.13.0"
  }
 },
 "nbformat": 4,
 "nbformat_minor": 5
}
